{
 "cells": [
  {
   "cell_type": "code",
   "execution_count": 146,
   "metadata": {},
   "outputs": [],
   "source": [
    "import os\n",
    "import pandas as pd\n",
    "import numpy as np\n",
    "import matplotlib.pyplot as plt\n",
    "import seaborn as sb\n",
    "\n",
    "%matplotlib inline"
   ]
  },
  {
   "cell_type": "code",
   "execution_count": 65,
   "metadata": {},
   "outputs": [],
   "source": []
  },
  {
   "cell_type": "code",
   "execution_count": 86,
   "metadata": {},
   "outputs": [],
   "source": [
    "def symbol_to_path(symbol):\n",
    "    \"\"\"Return CSV file path given ticker symbol\"\"\"\n",
    "    return os.path.join(\"{}.csv\".format(str(symbol)))"
   ]
  },
  {
   "cell_type": "code",
   "execution_count": 134,
   "metadata": {},
   "outputs": [
    {
     "ename": "SyntaxError",
     "evalue": "invalid syntax (<ipython-input-134-9ade0299e4fd>, line 3)",
     "output_type": "error",
     "traceback": [
      "\u001b[1;36m  File \u001b[1;32m\"<ipython-input-134-9ade0299e4fd>\"\u001b[1;36m, line \u001b[1;32m3\u001b[0m\n\u001b[1;33m    \"\"\"Read stock data(adjusted close) for given symbols from CSV files.\"\"\"\u001b[0m\n\u001b[1;37m                                          ^\u001b[0m\n\u001b[1;31mSyntaxError\u001b[0m\u001b[1;31m:\u001b[0m invalid syntax\n"
     ]
    }
   ],
   "source": [
    "#normalize_data  stock\n",
    "\"\"\"def get_data(symbols,dates):\n",
    "    \"\"\"Read stock data(adjusted close) for given symbols from CSV files.\"\"\"\n",
    "    df=pd.DataFrame(index=dates)\n",
    "    if 'SPY' not in symbols: #To add SPY for refernece,if absent\n",
    "        symbols.insert(0,'SPY')\n",
    "        \n",
    "    for symbol in symbols:\n",
    "        df_temp=pd.read_csv(symbol_to_path(symbol),index_col='Date',\n",
    "                           parse_dates=True,usecols=['Date','Adj Close'],na_values=['nan']) \n",
    "        df_temp=df_temp.rename(columns={'Adj Close':symbol})\n",
    "        df=df.join(df_temp)\n",
    "        if symbol =='SPY': #drop dates SPY  did not trade\n",
    "            df=df.dropna(subset=[\"SPY\"])\n",
    "        df=df/df.ix[0,:]\n",
    "    return df \"\"\"\n",
    "   \n",
    "   "
   ]
  },
  {
   "cell_type": "code",
   "execution_count": 135,
   "metadata": {},
   "outputs": [],
   "source": [
    "#Normal stock output\n",
    "def get_data(symbols,dates):\n",
    "    \"\"\"Read stock data(adjusted close) for given symbols from CSV files.\"\"\"\n",
    "    df=pd.DataFrame(index=dates)\n",
    "    if 'SPY' not in symbols: #To add SPY for refernece,if absent\n",
    "        symbols.insert(0,'SPY')\n",
    "        \n",
    "    for symbol in symbols:\n",
    "        df_temp=pd.read_csv(symbol_to_path(symbol),index_col='Date',\n",
    "                           parse_dates=True,usecols=['Date','Adj Close'],na_values=['nan']) \n",
    "        df_temp=df_temp.rename(columns={'Adj Close':symbol})\n",
    "        df=df.join(df_temp)\n",
    "        if symbol =='SPY': #drop dates SPY  did not trade\n",
    "            df=df.dropna(subset=[\"SPY\"])\n",
    "    return df"
   ]
  },
  {
   "cell_type": "code",
   "execution_count": 136,
   "metadata": {},
   "outputs": [],
   "source": [
    "# make plot frame\n",
    "def plot_data(df, title=\"Stock prices\"):\n",
    "    \"\"\"Plot stock prices with a custom title and meaningful axis labels.\"\"\"\n",
    "    ax = df.plot(title=title, fontsize=12)\n",
    "    ax.set_xlabel(\"Date\")\n",
    "    ax.set_ylabel(\"Price\")\n",
    "    plt.show()"
   ]
  },
  {
   "cell_type": "code",
   "execution_count": 154,
   "metadata": {},
   "outputs": [],
   "source": [
    "#make plot frame time range\n",
    "def plot_selected(df,columns,start_index,end_index):\n",
    "    plot_data(df.ix[start_index:end_index,columns],title=\"Selected data\")"
   ]
  },
  {
   "cell_type": "code",
   "execution_count": 155,
   "metadata": {},
   "outputs": [
    {
     "ename": "SyntaxError",
     "evalue": "invalid syntax (<ipython-input-155-6d545affbcff>, line 2)",
     "output_type": "error",
     "traceback": [
      "\u001b[1;36m  File \u001b[1;32m\"<ipython-input-155-6d545affbcff>\"\u001b[1;36m, line \u001b[1;32m2\u001b[0m\n\u001b[1;33m    \"\"\"Return rolling mean of given values, using specified window size.\"\"\"\u001b[0m\n\u001b[1;37m                                                     ^\u001b[0m\n\u001b[1;31mSyntaxError\u001b[0m\u001b[1;31m:\u001b[0m invalid syntax\n"
     ]
    }
   ],
   "source": [
    "\"\"\"def get_rolling_mean(values, window):\n",
    "    \"\"\"Return rolling mean of given values, using specified window size.\"\"\"\n",
    "    return pd.rolling_mean(values, window=window)\n"
   ]
  },
  {
   "cell_type": "code",
   "execution_count": 156,
   "metadata": {},
   "outputs": [
    {
     "ename": "SyntaxError",
     "evalue": "invalid syntax (<ipython-input-156-eccb68d47825>, line 2)",
     "output_type": "error",
     "traceback": [
      "\u001b[1;36m  File \u001b[1;32m\"<ipython-input-156-eccb68d47825>\"\u001b[1;36m, line \u001b[1;32m2\u001b[0m\n\u001b[1;33m    \"\"\"Return rolling standard deviation of given values, using specified window size.\"\"\"\u001b[0m\n\u001b[1;37m                                                    ^\u001b[0m\n\u001b[1;31mSyntaxError\u001b[0m\u001b[1;31m:\u001b[0m invalid syntax\n"
     ]
    }
   ],
   "source": [
    "\"\"\"def get_rolling_std(values, window):\n",
    "    \"\"\"Return rolling standard deviation of given values, using specified window size.\"\"\"\n",
    "    # TODO: Compute and return rolling standard deviation\n",
    "    return pd.rolling_std(values,window=window)\n"
   ]
  },
  {
   "cell_type": "code",
   "execution_count": 157,
   "metadata": {},
   "outputs": [
    {
     "ename": "SyntaxError",
     "evalue": "invalid syntax (<ipython-input-157-8252da62a631>, line 2)",
     "output_type": "error",
     "traceback": [
      "\u001b[1;36m  File \u001b[1;32m\"<ipython-input-157-8252da62a631>\"\u001b[1;36m, line \u001b[1;32m2\u001b[0m\n\u001b[1;33m    \"\"\"Return upper and lower Bollinger Bands.\"\"\"\u001b[0m\n\u001b[1;37m                                                 \n^\u001b[0m\n\u001b[1;31mSyntaxError\u001b[0m\u001b[1;31m:\u001b[0m invalid syntax\n"
     ]
    }
   ],
   "source": [
    "\"\"\"def get_bollinger_bands(rm, rstd):\n",
    "    \"\"\"Return upper and lower Bollinger Bands.\"\"\"\n",
    "    # TODO: Compute upper_band and lower_band\n",
    "    upper_band=rm+rstd *2\n",
    "    lower_band=rm-rstd*2\n",
    "    return upper_band, lower_band"
   ]
  },
  {
   "cell_type": "code",
   "execution_count": 153,
   "metadata": {},
   "outputs": [
    {
     "name": "stderr",
     "output_type": "stream",
     "text": [
      "C:\\ProgramData\\Anaconda3\\lib\\site-packages\\ipykernel_launcher.py:3: DeprecationWarning: \n",
      ".ix is deprecated. Please use\n",
      ".loc for label based indexing or\n",
      ".iloc for positional indexing\n",
      "\n",
      "See the documentation here:\n",
      "http://pandas.pydata.org/pandas-docs/stable/indexing.html#ix-indexer-is-deprecated\n",
      "  This is separate from the ipykernel package so we can avoid doing imports until\n"
     ]
    },
    {
     "data": {
      "image/png": "[encoded data removed]",
      "text/plain": [
       "<Figure size 432x288 with 1 Axes>"
      ]
     },
     "metadata": {
      "needs_background": "light"
     },
     "output_type": "display_data"
    },
    {
     "name": "stdout",
     "output_type": "stream",
     "text": [
      "SPY      282.616250\n",
      "GLD      121.211819\n",
      "IBM      131.243900\n",
      "GOOG    1150.763178\n",
      "dtype: float64\n"
     ]
    },
    {
     "ename": "AttributeError",
     "evalue": "module 'pandas' has no attribute 'rolling_mean'",
     "output_type": "error",
     "traceback": [
      "\u001b[1;31m---------------------------------------------------------------------------\u001b[0m",
      "\u001b[1;31mAttributeError\u001b[0m                            Traceback (most recent call last)",
      "\u001b[1;32m<ipython-input-153-fb84d8e92fe9>\u001b[0m in \u001b[0;36m<module>\u001b[1;34m()\u001b[0m\n\u001b[0;32m     40\u001b[0m     \u001b[1;31m#print df['GOOG'] # a single label selects a signle column\u001b[0m\u001b[1;33m\u001b[0m\u001b[1;33m\u001b[0m\u001b[0m\n\u001b[0;32m     41\u001b[0m     \u001b[1;31m#print df['IBM','GLD'] # a list of labels\u001b[0m\u001b[1;33m\u001b[0m\u001b[1;33m\u001b[0m\u001b[0m\n\u001b[1;32m---> 42\u001b[1;33m \u001b[0mprint\u001b[0m\u001b[1;33m(\u001b[0m\u001b[0mtest_run\u001b[0m\u001b[1;33m(\u001b[0m\u001b[1;33m)\u001b[0m\u001b[1;33m)\u001b[0m\u001b[1;33m\u001b[0m\u001b[0m\n\u001b[0m",
      "\u001b[1;32m<ipython-input-153-fb84d8e92fe9>\u001b[0m in \u001b[0;36mtest_run\u001b[1;34m()\u001b[0m\n\u001b[0;32m     14\u001b[0m      \u001b[1;31m# Compute Bollinger Bands\u001b[0m\u001b[1;33m\u001b[0m\u001b[1;33m\u001b[0m\u001b[0m\n\u001b[0;32m     15\u001b[0m     \u001b[1;31m# 1. Compute rolling mean\u001b[0m\u001b[1;33m\u001b[0m\u001b[1;33m\u001b[0m\u001b[0m\n\u001b[1;32m---> 16\u001b[1;33m     \u001b[0mrm_SPY\u001b[0m \u001b[1;33m=\u001b[0m \u001b[0mget_rolling_mean\u001b[0m\u001b[1;33m(\u001b[0m\u001b[0mdf\u001b[0m\u001b[1;33m[\u001b[0m\u001b[1;34m'SPY'\u001b[0m\u001b[1;33m]\u001b[0m\u001b[1;33m,\u001b[0m \u001b[0mwindow\u001b[0m\u001b[1;33m=\u001b[0m\u001b[1;36m20\u001b[0m\u001b[1;33m)\u001b[0m\u001b[1;33m\u001b[0m\u001b[0m\n\u001b[0m\u001b[0;32m     17\u001b[0m \u001b[1;33m\u001b[0m\u001b[0m\n\u001b[0;32m     18\u001b[0m     \u001b[1;31m# 2. Compute rolling standard deviation\u001b[0m\u001b[1;33m\u001b[0m\u001b[1;33m\u001b[0m\u001b[0m\n",
      "\u001b[1;32m<ipython-input-148-a54aed759c1e>\u001b[0m in \u001b[0;36mget_rolling_mean\u001b[1;34m(values, window)\u001b[0m\n\u001b[0;32m      1\u001b[0m \u001b[1;32mdef\u001b[0m \u001b[0mget_rolling_mean\u001b[0m\u001b[1;33m(\u001b[0m\u001b[0mvalues\u001b[0m\u001b[1;33m,\u001b[0m \u001b[0mwindow\u001b[0m\u001b[1;33m)\u001b[0m\u001b[1;33m:\u001b[0m\u001b[1;33m\u001b[0m\u001b[0m\n\u001b[0;32m      2\u001b[0m     \u001b[1;34m\"\"\"Return rolling mean of given values, using specified window size.\"\"\"\u001b[0m\u001b[1;33m\u001b[0m\u001b[0m\n\u001b[1;32m----> 3\u001b[1;33m     \u001b[1;32mreturn\u001b[0m \u001b[0mpd\u001b[0m\u001b[1;33m.\u001b[0m\u001b[0mrolling_mean\u001b[0m\u001b[1;33m(\u001b[0m\u001b[0mvalues\u001b[0m\u001b[1;33m,\u001b[0m \u001b[0mwindow\u001b[0m\u001b[1;33m=\u001b[0m\u001b[0mwindow\u001b[0m\u001b[1;33m)\u001b[0m\u001b[1;33m\u001b[0m\u001b[0m\n\u001b[0m",
      "\u001b[1;31mAttributeError\u001b[0m: module 'pandas' has no attribute 'rolling_mean'"
     ]
    }
   ],
   "source": [
    "def test_run():\n",
    "    #Define a date range\n",
    "    dates=pd.date_range('2019-05-01','2019-05-31')\n",
    "    \n",
    "    symbols=['SPY','GLD','IBM','GOOG']\n",
    "    \n",
    "    #Get stock data\n",
    "    df=get_data(symbols, dates)\n",
    "    \n",
    "    plot_selected(df,['SPY','GLD','IBM','GOOG'],'2019-01-01','2019-11-30')\n",
    "    \n",
    "    print(df.mean()) \n",
    "    \n",
    "     # Compute Bollinger Bands\n",
    "    # 1. Compute rolling mean\n",
    "    rm_SPY = get_rolling_mean(df['SPY'], window=20)\n",
    "\n",
    "    # 2. Compute rolling standard deviation\n",
    "    rstd_SPY = get_rolling_std(df['SPY'], window=20)\n",
    "\n",
    "    # 3. Compute upper and lower bands\n",
    "    upper_band, lower_band = get_bollinger_bands(rm_SPY, rstd_SPY)\n",
    "    \n",
    "    # Plot raw SPY values, rolling mean and Bollinger Bands\n",
    "    ax = df['SPY'].plot(title=\"Bollinger Bands\", label='SPY')\n",
    "    rm_SPY.plot(label='Rolling mean', ax=ax)\n",
    "    upper_band.plot(label='upper band', ax=ax)\n",
    "    lower_band.plot(label='lower band', ax=ax)\n",
    "\n",
    "    # Add axis labels and legend\n",
    "    ax.set_xlabel(\"Date\")\n",
    "    ax.set_ylabel(\"Price\")\n",
    "    ax.legend(loc='upper left')\n",
    "    plt.show()\n",
    "    \n",
    "    #Slice by row(dates) using DataFrame.ix[] selector\n",
    "    #print df.ix['2019-05-01':'2019-05-15'] \n",
    "    \n",
    "    #Slice by column (symbols)\n",
    "    #print df['GOOG'] # a single label selects a signle column\n",
    "    #print df['IBM','GLD'] # a list of labels \n",
    "print(test_run())"
   ]
  },
  {
   "cell_type": "code",
   "execution_count": null,
   "metadata": {},
   "outputs": [],
   "source": []
  }
 ],
 "metadata": {
  "kernelspec": {
   "display_name": "Python 3",
   "language": "python",
   "name": "python3"
  },
  "language_info": {
   "codemirror_mode": {
    "name": "ipython",
    "version": 3
   },
   "file_extension": ".py",
   "mimetype": "text/x-python",
   "name": "python",
   "nbconvert_exporter": "python",
   "pygments_lexer": "ipython3",
   "version": "3.7.0"
  }
 },
 "nbformat": 4,
 "nbformat_minor": 2
}
