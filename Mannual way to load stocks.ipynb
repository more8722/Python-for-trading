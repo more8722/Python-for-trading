{
 "cells": [
  {
   "cell_type": "code",
   "execution_count": 2,
   "metadata": {},
   "outputs": [],
   "source": [
    "import pandas as pd\n"
   ]
  },
  {
   "cell_type": "code",
   "execution_count": 32,
   "metadata": {},
   "outputs": [
    {
     "name": "stdout",
     "output_type": "stream",
     "text": [
      "                   SPY         GOOG         IBM         GLD\n",
      "2019-05-01  289.062714  1168.079956  135.689636  120.400002\n",
      "2019-05-02  288.438629  1162.609985  134.753250  119.940002\n",
      "2019-05-03  291.261810  1185.400024  135.390396  120.650002\n",
      "2019-05-06  290.063202  1189.390015  135.515884  120.809998\n",
      "2019-05-07  285.219238  1174.099976  132.870834  121.209999\n",
      "2019-05-08  284.822998  1166.270020  133.218353  120.910004\n",
      "2019-05-09  283.961182  1162.380005  132.202454  121.199997\n",
      "2019-05-10  285.387634  1164.270020  132.182938  121.430000\n",
      "2019-05-13  278.215790  1132.030029  128.373337  122.669998\n",
      "2019-05-14  280.731873  1120.439941  130.219513  122.459999\n",
      "2019-05-15  282.376251  1164.209961  131.284241  122.389999\n",
      "2019-05-16  284.991425  1178.979980  132.729950  121.510002\n",
      "2019-05-17  283.148926  1162.300049  131.206116  120.650002\n",
      "2019-05-20  281.276703  1138.849976  131.987564  120.639999\n",
      "2019-05-21  283.812622  1149.630005  133.286728  120.360001\n",
      "2019-05-22  282.940887  1151.420044  133.189056  120.239998\n",
      "2019-05-23  279.483765  1140.770020  129.320847  121.169998\n",
      "2019-05-24  280.117737  1133.469971  129.213394  121.300003\n",
      "2019-05-28  277.512482  1134.150024  127.435608  120.830002\n",
      "2019-05-29  275.650177  1116.459961  126.683449  120.870003\n",
      "2019-05-30  276.403046  1117.949951  126.566223  121.690002\n",
      "None\n"
     ]
    }
   ],
   "source": [
    "#Define date range\n",
    "def test_run():\n",
    "    start_date='2019-05-01'\n",
    "    end_date='2019-05-30'\n",
    "    dates=pd.date_range(start_date,end_date)\n",
    "    \n",
    "    #Create an empty dataframe \n",
    "    df1=pd.DataFrame(index=dates)\n",
    "   \n",
    "    \n",
    "    dfSPY=pd.read_csv(\"SPY.csv\",index_col= \"Date\",\n",
    "                      parse_dates=True,usecols=['Date','Adj Close'],na_values=['nan'])\n",
    "    #Change the name in case of same name when read another files\n",
    "    dfSPY=dfSPY.rename(columns={'Adj Close':'SPY'})\n",
    "    df1=df1.join(dfSPY,how='inner')\n",
    "    \n",
    "    #Read more files \n",
    "    symbols=['GOOG','IBM','GLD']\n",
    "    \n",
    "    for symbol in symbols:\n",
    "        df_temp=pd.read_csv(\"{}.csv\".format(symbol),index_col= \"Date\",\n",
    "                            parse_dates=True,usecols=['Date','Adj Close'],na_values=['nan'])\n",
    "        df_temp=df_temp.rename(columns={'Adj Close':symbol})\n",
    "        df1=df1.join(df_temp)\n",
    "    print(df1)\n",
    "print(test_run())"
   ]
  }
 ],
 "metadata": {
  "kernelspec": {
   "display_name": "Python 3",
   "language": "python",
   "name": "python3"
  },
  "language_info": {
   "codemirror_mode": {
    "name": "ipython",
    "version": 3
   },
   "file_extension": ".py",
   "mimetype": "text/x-python",
   "name": "python",
   "nbconvert_exporter": "python",
   "pygments_lexer": "ipython3",
   "version": "3.7.0"
  }
 },
 "nbformat": 4,
 "nbformat_minor": 2
}
